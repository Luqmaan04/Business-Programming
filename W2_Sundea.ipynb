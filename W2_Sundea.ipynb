{
  "nbformat": 4,
  "nbformat_minor": 0,
  "metadata": {
    "colab": {
      "provenance": [],
      "authorship_tag": "ABX9TyMXrpUO+BiCoKyJ9iRBghEG",
      "include_colab_link": true
    },
    "kernelspec": {
      "name": "python3",
      "display_name": "Python 3"
    },
    "language_info": {
      "name": "python"
    }
  },
  "cells": [
    {
      "cell_type": "markdown",
      "metadata": {
        "id": "view-in-github",
        "colab_type": "text"
      },
      "source": [
        "<a href=\"https://colab.research.google.com/github/Luqmaan04/Business-Programming/blob/main/W2_Sundea.ipynb\" target=\"_parent\"><img src=\"https://colab.research.google.com/assets/colab-badge.svg\" alt=\"Open In Colab\"/></a>"
      ]
    },
    {
      "cell_type": "markdown",
      "source": [
        "### Sundea"
      ],
      "metadata": {
        "id": "NbNZjmysLKT7"
      }
    },
    {
      "cell_type": "markdown",
      "source": [
        "## Task 1"
      ],
      "metadata": {
        "id": "AHxIf67fLSjC"
      }
    },
    {
      "cell_type": "markdown",
      "source": [
        "The program is likely designed to recognize specific inputs, such as \"Yes\" or \"no,\" to add or not add a cherry on top, regardless of capitalization. The exact response would depend on the specific programming of the application."
      ],
      "metadata": {
        "id": "LqwYLPfuLX-k"
      }
    },
    {
      "cell_type": "markdown",
      "source": [
        "## Task 2"
      ],
      "metadata": {
        "id": "geXmmJVZLc93"
      }
    },
    {
      "cell_type": "code",
      "source": [
        "# Original list\n",
        "names = [\"Alice\", \"Bob\", \"Charlie\", \"Stacie\"]\n",
        "\n",
        "# Change 'Stacie' to 'Stacy'\n",
        "names[3] = \"Stacy\"\n",
        "\n",
        "# Add your name to the list\n",
        "names.append(\"Luqmaan\")\n",
        "\n",
        "print(names)\n"
      ],
      "metadata": {
        "colab": {
          "base_uri": "https://localhost:8080/"
        },
        "id": "6eCkAkQZLQmL",
        "outputId": "1d995940-bdc1-4837-a9cf-b6da043507a4"
      },
      "execution_count": null,
      "outputs": [
        {
          "output_type": "stream",
          "name": "stdout",
          "text": [
            "['Alice', 'Bob', 'Charlie', 'Stacy', 'Luqmaan']\n"
          ]
        }
      ]
    },
    {
      "cell_type": "markdown",
      "source": [
        "## Task 3"
      ],
      "metadata": {
        "id": "aggNXn08LixJ"
      }
    },
    {
      "cell_type": "code",
      "source": [
        "import random\n",
        "\n",
        "# Change 'Stacie' to 'Stacy'\n",
        "customers = ['Jimmy', 'Kim', 'John', 'Stacy']\n",
        "\n",
        "# Add your name to the list\n",
        "customers.append('Luqmaan')\n",
        "\n",
        "winner = random.choice(customers)\n",
        "\n",
        "flavor = 'vanilla'\n",
        "\n",
        "print('Congratulations ' + winner +\n",
        " ' you have won an ice cream sundae!')\n",
        "\n",
        "prompt = 'Would you like a cherry on top? '\n",
        "\n",
        "wants_cherry = input(prompt)\n",
        "\n",
        "order = flavor + ' sundae '\n",
        "\n",
        "if (wants_cherry.lower() == 'yes'):\n",
        " order = order + ' with a cherry on top'\n",
        "\n",
        "print('One ' + order + ' for ' + winner +\n",
        " ' coming right up...')\n"
      ],
      "metadata": {
        "id": "-oH8glTuLmQ9"
      },
      "execution_count": null,
      "outputs": []
    },
    {
      "cell_type": "markdown",
      "source": [
        "## Task 4"
      ],
      "metadata": {
        "id": "kkF7mg9pMAZq"
      }
    },
    {
      "cell_type": "markdown",
      "source": [
        "To alter the program so that two individuals can receive a sundae, we need to implement a process to choose two victors from the list of customers. Here is a brief outline of the steps we could follow:\n",
        "\n",
        "1.Selecting Multiple Winners: Instead of using the random.choice() function to select a single winner, the task is to choose multiple winners. To accomplish this, we would need to generate two random indices from the list of customers to select two winners.\n",
        "\n",
        "2.Announcing the Winners: After identifying the successful participants, the program should publicly reveal the winners and express congratulations to them for their achievement of earning a sundae.\n",
        "\n",
        "3.Adjusting the Order: Since two individuals have emerged victorious, we must modify the sequence appropriately. The arrangement can remain identical for both winners or be distinct, depending on the stipulations. Additionally, we may need to consider the scenario where both winners request a cherry as a topping.\n",
        "\n",
        "4.Printing the Orders: The program should output the orders for both the winning participants, including any extra toppings they asked for.\n",
        "\n",
        "5.Handling Tie Cases: In situations where the same individual is chosen as the winner on two separate occasions or there is a tie between two customers, it is crucial to address these scenarios in a fair and considerate manner to ensure the process remains equitable.\n",
        "\n",
        "6.Error Handling: Implementing error handling is crucial to ensure the program functions properly even in unanticipated scenarios, such as an empty customer list or an insufficient number of customers to choose from."
      ],
      "metadata": {
        "id": "HgYZ6tNeMDm_"
      }
    },
    {
      "cell_type": "markdown",
      "source": [],
      "metadata": {
        "id": "uXkrObgjMFxr"
      }
    }
  ]
}