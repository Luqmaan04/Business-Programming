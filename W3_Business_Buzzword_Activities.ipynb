{
  "nbformat": 4,
  "nbformat_minor": 0,
  "metadata": {
    "colab": {
      "provenance": [],
      "authorship_tag": "ABX9TyOU+2JdSQXVM46RcbtHv/4g",
      "include_colab_link": true
    },
    "kernelspec": {
      "name": "python3",
      "display_name": "Python 3"
    },
    "language_info": {
      "name": "python"
    }
  },
  "cells": [
    {
      "cell_type": "markdown",
      "metadata": {
        "id": "view-in-github",
        "colab_type": "text"
      },
      "source": [
        "<a href=\"https://colab.research.google.com/github/Luqmaan04/Business-Programming/blob/main/W3_Business_Buzzword_Activities.ipynb\" target=\"_parent\"><img src=\"https://colab.research.google.com/assets/colab-badge.svg\" alt=\"Open In Colab\"/></a>"
      ]
    },
    {
      "cell_type": "markdown",
      "source": [
        "### Task 1"
      ],
      "metadata": {
        "id": "DdfBlyXzlKNX"
      }
    },
    {
      "cell_type": "code",
      "source": [
        "import random  # importing the random module\n",
        "\n",
        "buzzwords = ['synergy', 'disruptive', 'innovative', 'agile']  # list of buzzwords\n",
        "actions = ['implement', 'leverage', 'optimize', 'streamline']  # list of actions\n",
        "outcomes = ['results', 'solutions', 'outcomes', 'impact']  # list of outcomes\n",
        "\n",
        "# randomly choose one buzzword, action, and outcome from each list\n",
        "chosen_buzzword = random.choice(buzzwords)\n",
        "chosen_action = random.choice(actions)\n",
        "chosen_outcome = random.choice(outcomes)\n",
        "\n",
        "# build the phrase by \"adding\" the words together\n",
        "phrase = f\"{chosen_buzzword} {chosen_action} {chosen_outcome}\"\n",
        "\n",
        "# output the phrase\n",
        "print(phrase)\n"
      ],
      "metadata": {
        "colab": {
          "base_uri": "https://localhost:8080/"
        },
        "id": "fkac1j1rlRAR",
        "outputId": "4010328d-424f-4070-dcac-516626a07648"
      },
      "execution_count": null,
      "outputs": [
        {
          "output_type": "stream",
          "name": "stdout",
          "text": [
            "synergy implement outcomes\n"
          ]
        }
      ]
    }
  ]
}