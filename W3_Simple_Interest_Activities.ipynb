{
  "nbformat": 4,
  "nbformat_minor": 0,
  "metadata": {
    "colab": {
      "provenance": [],
      "authorship_tag": "ABX9TyO2GdFuqynWHacelnwovEb5",
      "include_colab_link": true
    },
    "kernelspec": {
      "name": "python3",
      "display_name": "Python 3"
    },
    "language_info": {
      "name": "python"
    }
  },
  "cells": [
    {
      "cell_type": "markdown",
      "metadata": {
        "id": "view-in-github",
        "colab_type": "text"
      },
      "source": [
        "<a href=\"https://colab.research.google.com/github/Luqmaan04/Business-Programming/blob/main/W3_Simple_Interest_Activities.ipynb\" target=\"_parent\"><img src=\"https://colab.research.google.com/assets/colab-badge.svg\" alt=\"Open In Colab\"/></a>"
      ]
    },
    {
      "cell_type": "markdown",
      "source": [
        "### Simple Interest"
      ],
      "metadata": {
        "id": "92eZD2BBZxrR"
      }
    },
    {
      "cell_type": "code",
      "source": [
        "# Prompt user for input\n",
        "amount_borrowed = float(input(\"Enter the amount borrowed: $\"))\n",
        "interest_rate = float(input(\"Enter the annual interest rate (%): \"))\n",
        "loan_period = float(input(\"Enter the loan period (in years): \"))\n",
        "\n",
        "# Calculate simple interest\n",
        "simple_interest = (amount_borrowed * interest_rate * loan_period) / 100\n",
        "\n",
        "# Print the result\n",
        "print(f\"The total interest on the loan is: ${simple_interest:.2f}\")\n"
      ],
      "metadata": {
        "id": "l99Hb55_bEM8"
      },
      "execution_count": null,
      "outputs": []
    },
    {
      "cell_type": "markdown",
      "source": [
        "## Sample"
      ],
      "metadata": {
        "id": "lugkM257bh3G"
      }
    },
    {
      "cell_type": "code",
      "source": [
        "# Prompt user for input\n",
        "amount_borrowed = float(input(\"Enter the amount borrowed: $\"))\n",
        "interest_rate = float(input(\"Enter the annual interest rate (%): \"))\n",
        "loan_period = float(input(\"Enter the loan period (in years): \"))\n",
        "\n",
        "# Calculate simple interest\n",
        "simple_interest = (amount_borrowed * interest_rate * loan_period) / 100\n",
        "\n",
        "# Print the result\n",
        "print(f\"The total interest on the loan is: ${simple_interest:.2f}\")\n",
        "\n"
      ],
      "metadata": {
        "colab": {
          "base_uri": "https://localhost:8080/"
        },
        "id": "ic5Sppgab0jA",
        "outputId": "5fec194f-f5a2-4b97-e6ff-fdb1c7681735"
      },
      "execution_count": null,
      "outputs": [
        {
          "output_type": "stream",
          "name": "stdout",
          "text": [
            "Enter the amount borrowed: $10000\n",
            "Enter the annual interest rate (%): 2\n",
            "Enter the loan period (in years): 5\n",
            "The total interest on the loan is: $1000.00\n"
          ]
        }
      ]
    }
  ]
}