{
  "nbformat": 4,
  "nbformat_minor": 0,
  "metadata": {
    "colab": {
      "provenance": [],
      "authorship_tag": "ABX9TyOO7YxO7pCo4mWcomGRlAMz",
      "include_colab_link": true
    },
    "kernelspec": {
      "name": "python3",
      "display_name": "Python 3"
    },
    "language_info": {
      "name": "python"
    }
  },
  "cells": [
    {
      "cell_type": "markdown",
      "metadata": {
        "id": "view-in-github",
        "colab_type": "text"
      },
      "source": [
        "<a href=\"https://colab.research.google.com/github/Luqmaan04/Business-Programming/blob/main/W5_Speech_to_text.ipynb\" target=\"_parent\"><img src=\"https://colab.research.google.com/assets/colab-badge.svg\" alt=\"Open In Colab\"/></a>"
      ]
    },
    {
      "cell_type": "markdown",
      "source": [
        "Speech_to_Text"
      ],
      "metadata": {
        "id": "b7eJ7Uyx0aeU"
      }
    },
    {
      "cell_type": "code",
      "execution_count": null,
      "metadata": {
        "id": "udAjkCmM0Ypu"
      },
      "outputs": [],
      "source": [
        "import speech_recognition as sr\n",
        "\n",
        "def speech_to_text(audio_file):\n",
        "    recognizer = sr.Recognizer()\n",
        "    with sr.AudioFile(audio_file) as source:\n",
        "        audio_data = recognizer.record(source)\n",
        "    text = recognizer.recognize_google(audio_data)\n",
        "    return text\n",
        "\n",
        "if __name__ == \"__main__\":\n",
        "    audio_file = \"path/to/your/audio/file.wav\"\n",
        "    text = speech_to_text(audio_file)\n",
        "    print(\"Converted Text:\", text)\n"
      ]
    },
    {
      "cell_type": "markdown",
      "source": [
        "I did the code on another laptop which has pip install speechRecognition i was working."
      ],
      "metadata": {
        "id": "1zxVy0zWEixJ"
      }
    }
  ]
}