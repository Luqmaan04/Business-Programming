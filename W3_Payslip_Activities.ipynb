{
  "nbformat": 4,
  "nbformat_minor": 0,
  "metadata": {
    "colab": {
      "provenance": [],
      "authorship_tag": "ABX9TyPgrk0mKcVd/IsS31rVXBc5",
      "include_colab_link": true
    },
    "kernelspec": {
      "name": "python3",
      "display_name": "Python 3"
    },
    "language_info": {
      "name": "python"
    }
  },
  "cells": [
    {
      "cell_type": "markdown",
      "metadata": {
        "id": "view-in-github",
        "colab_type": "text"
      },
      "source": [
        "<a href=\"https://colab.research.google.com/github/Luqmaan04/Business-Programming/blob/main/W3_Payslip_Activities.ipynb\" target=\"_parent\"><img src=\"https://colab.research.google.com/assets/colab-badge.svg\" alt=\"Open In Colab\"/></a>"
      ]
    },
    {
      "cell_type": "markdown",
      "source": [
        "### **Payslip**"
      ],
      "metadata": {
        "id": "cMreywZ2e_og"
      }
    },
    {
      "cell_type": "markdown",
      "source": [
        "# Task 1_Radha Payslip"
      ],
      "metadata": {
        "id": "ar0lGWBafbmD"
      }
    },
    {
      "cell_type": "code",
      "source": [
        "salary_radha = 30000\n",
        "sales_radha = 40000\n",
        "commission_radha = 0.025 * sales_radha\n",
        "tax_radha = (salary_radha + commission_radha) * 0.10\n",
        "pay_radha = salary_radha + commission_radha - tax_radha\n",
        "\n",
        "print('Payslip of Radha')\n",
        "print('Salary:', salary_radha)\n",
        "print('Commission:', commission_radha)\n",
        "print('Tax:', tax_radha)\n",
        "print('Total pay:', pay_radha)\n"
      ],
      "metadata": {
        "colab": {
          "base_uri": "https://localhost:8080/"
        },
        "id": "Nv3hxztmfhos",
        "outputId": "a8c46094-d91e-4dbd-bfa8-7e06f31dc31c"
      },
      "execution_count": null,
      "outputs": [
        {
          "output_type": "stream",
          "name": "stdout",
          "text": [
            "Payslip of Radha\n",
            "Salary: 30000\n",
            "Commission: 1000.0\n",
            "Tax: 3100.0\n",
            "Total pay: 27900.0\n"
          ]
        }
      ]
    },
    {
      "cell_type": "markdown",
      "source": [
        "# Task 2_Generalise"
      ],
      "metadata": {
        "id": "4RW3-NfWf64E"
      }
    },
    {
      "cell_type": "markdown",
      "source": [
        "The two people had different salaries with Ram getting $25,000 and Radha was allotted $30,000 similarly another variable used was sales which both had different values of goods sold by Ram worth $20,000 while Radha’s was $40,000 . The last variable was commission which also had different values Ram’s was 2% while Radha’s was 2.5%. To between different multiplication algorithm Ram and Radha variable name was changed to longitude such as “salary” was changed to “salary_radha”, “sales” to “sales_radha,” and “commission” to “commission_radha”."
      ],
      "metadata": {
        "id": "w1w8tk8mgITE"
      }
    },
    {
      "cell_type": "code",
      "source": [
        "def generate_payslip(name, salary, sales, commission_rate, tax_rate):\n",
        "    commission = commission_rate * sales\n",
        "    tax = (salary + commission) * tax_rate\n",
        "    total_pay = salary + commission - tax\n",
        "\n",
        "    print(f'Payslip of {name}')\n",
        "    print(f'Salary: ${salary}')\n",
        "    print(f'Commission: ${commission}')\n",
        "    print(f'Tax: ${tax}')\n",
        "    print(f'Total pay: ${total_pay}')\n",
        "\n",
        "# Example usage for Ram\n",
        "generate_payslip('Ram', 25000, 20000, 0.02, 0.10)\n",
        "\n",
        "# Example usage for Radha\n",
        "generate_payslip('Radha', 30000, 40000, 0.025, 0.10)\n"
      ],
      "metadata": {
        "colab": {
          "base_uri": "https://localhost:8080/"
        },
        "id": "TKOZAEvIifu_",
        "outputId": "a7474e57-6c82-42ee-f6f8-6b1ecd3cc997"
      },
      "execution_count": null,
      "outputs": [
        {
          "output_type": "stream",
          "name": "stdout",
          "text": [
            "Payslip of Ram\n",
            "Salary: $25000\n",
            "Commission: $400.0\n",
            "Tax: $2540.0\n",
            "Total pay: $22860.0\n",
            "Payslip of Radha\n",
            "Salary: $30000\n",
            "Commission: $1000.0\n",
            "Tax: $3100.0\n",
            "Total pay: $27900.0\n"
          ]
        }
      ]
    }
  ]
}